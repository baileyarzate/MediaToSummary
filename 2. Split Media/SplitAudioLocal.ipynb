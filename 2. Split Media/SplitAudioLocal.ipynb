{
 "cells": [
  {
   "cell_type": "code",
   "execution_count": 1,
   "id": "bf7b23c1-8e37-417a-a148-dbca7234f7b9",
   "metadata": {},
   "outputs": [],
   "source": [
    "from pydub import AudioSegment\n",
    "from pydub.utils import make_chunks\n",
    "import math"
   ]
  },
  {
   "cell_type": "code",
   "execution_count": 2,
   "id": "7f4d087a-3c3a-423b-90bd-5cd7307adab4",
   "metadata": {},
   "outputs": [],
   "source": [
    "audio_file = r\"C:\\Users\\1617290819C\\Documents\\Audio\\Final_AIM_mixdownArchive.mp3\"\n",
    "audio = AudioSegment.from_file(audio_file)"
   ]
  },
  {
   "cell_type": "code",
   "execution_count": 3,
   "id": "c6aa7b5f-c8ca-45e5-8b17-dced628156d5",
   "metadata": {},
   "outputs": [],
   "source": [
    "segment_length_ms = 30000\n",
    "# # Calculate the number of segments\n",
    "num_segments = math.ceil(len(audio) / segment_length_ms)\n",
    "\n",
    "# Split the audio into segments\n",
    "for i in range(num_segments):\n",
    "    start_time = i * segment_length_ms\n",
    "    end_time = (i + 1) * segment_length_ms\n",
    "    segment = audio[start_time:end_time]\n",
    "\n",
    "    # create a folder in Google Colab called 'segments'\n",
    "    # this has to be done manually\n",
    "\n",
    "    # Export each segment to a new file\n",
    "    segment.export(rf\"C:\\Users\\1617290819C\\Documents\\Audio\\split_audio_Final\\segment_{i}.mp3\", format=\"mp3\")"
   ]
  },
  {
   "cell_type": "code",
   "execution_count": 5,
   "id": "046726e7-63ed-4358-9370-cc94906608a3",
   "metadata": {},
   "outputs": [
    {
     "data": {
      "text/plain": [
       "pydub.audio_segment.AudioSegment"
      ]
     },
     "execution_count": 5,
     "metadata": {},
     "output_type": "execute_result"
    }
   ],
   "source": []
  }
 ],
 "metadata": {
  "kernelspec": {
   "display_name": "Python 3 (ipykernel)",
   "language": "python",
   "name": "python3"
  },
  "language_info": {
   "codemirror_mode": {
    "name": "ipython",
    "version": 3
   },
   "file_extension": ".py",
   "mimetype": "text/x-python",
   "name": "python",
   "nbconvert_exporter": "python",
   "pygments_lexer": "ipython3",
   "version": "3.11.8"
  }
 },
 "nbformat": 4,
 "nbformat_minor": 5
}
